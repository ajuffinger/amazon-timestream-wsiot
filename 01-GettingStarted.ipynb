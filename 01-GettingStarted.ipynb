{
 "cells": [
  {
   "cell_type": "markdown",
   "metadata": {},
   "source": [
    "# Site Telemetry\n",
    "\n",
    "Use case is to collect from multiple devices per site a number of temperature and humidity readings.\n"
   ]
  },
  {
   "cell_type": "code",
   "execution_count": 2,
   "metadata": {},
   "outputs": [
    {
     "name": "stdout",
     "output_type": "stream",
     "text": [
      "XLibs folder does not exist. Going to create it.\n",
      "Loaded https://github.com/ajuffinger/amazon-timestream-tools/raw/notebook/tools/python/timestreamquery.py to xlibs\n",
      "Loaded https://github.com/ajuffinger/amazon-timestream-tools/raw/notebook/tools/python/timestreamwrite.py to xlibs\n"
     ]
    }
   ],
   "source": [
    "import os\n",
    "import requests\n",
    "\n",
    "if not os.path.isfile('xlibs/timestreamquery.py'):\n",
    "    if not os.path.dirname('xlibs'): \n",
    "        print(\"XLibs folder does not exist. Going to create it.\")\n",
    "        os.makedirs('xlibs')\n",
    "############\n",
    "# NOTE: this is currently retrieved from a branch on github, the code will be merged into the \n",
    "# https://github.com/awslabs/amazon-timestream-tools\n",
    "############\n",
    "    urls = ['https://github.com/ajuffinger/amazon-timestream-tools/raw/notebook/tools/python/timestreamquery.py',\n",
    "            'https://github.com/ajuffinger/amazon-timestream-tools/raw/notebook/tools/python/timestreamwrite.py']\n",
    "    for url in urls:\n",
    "        r = requests.get(url, allow_redirects=True)\n",
    "        f = url.split(\"/\")[-1]\n",
    "        open('xlibs/' + f, 'wb').write(r.content)\n",
    "        print(\"Loaded \"+ url + \" to xlibs\")\n",
    "else:\n",
    "    print(\"Using local python scripts from folder ./xlibs\") \n",
    "    \n",
    "from xlibs import timestreamquery as tsquery\n",
    "from xlibs import timestreamwrite as tswrite\n"
   ]
  },
  {
   "cell_type": "code",
   "execution_count": null,
   "metadata": {},
   "outputs": [],
   "source": []
  }
 ],
 "metadata": {
  "instance_type": "ml.t3.medium",
  "kernelspec": {
   "display_name": "Python 3 (Data Science)",
   "language": "python",
   "name": "python3__SAGEMAKER_INTERNAL__arn:aws:sagemaker:us-east-1:081325390199:image/datascience-1.0"
  },
  "language_info": {
   "codemirror_mode": {
    "name": "ipython",
    "version": 3
   },
   "file_extension": ".py",
   "mimetype": "text/x-python",
   "name": "python",
   "nbconvert_exporter": "python",
   "pygments_lexer": "ipython3",
   "version": "3.7.10"
  }
 },
 "nbformat": 4,
 "nbformat_minor": 4
}
